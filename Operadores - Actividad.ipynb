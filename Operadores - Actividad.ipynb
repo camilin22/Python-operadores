{
 "cells": [
  {
   "cell_type": "markdown",
   "metadata": {},
   "source": [
    "## Operadores - Actividad"
   ]
  },
  {
   "cell_type": "markdown",
   "metadata": {},
   "source": [
    "1) Pedir al usuario dos números y mostrar por pantalla la suma de ellos."
   ]
  },
  {
   "cell_type": "code",
   "execution_count": 1,
   "metadata": {},
   "outputs": [
    {
     "name": "stdout",
     "output_type": "stream",
     "text": [
      "la suma es: 4\n"
     ]
    }
   ],
   "source": [
    "numero_1 = int (input(\"ingresar numero 1\" ))\n",
    "\n",
    "numero_2 = int (input(\"ingresar numero 2\"))\n",
    "\n",
    "suma = numero_1 + numero_2\n",
    "\n",
    "print(\"la suma es:\", suma)"
   ]
  },
  {
   "cell_type": "markdown",
   "metadata": {},
   "source": [
    "2) Calcular el perímetro y área de un rectángulo dada su base y su altura (el usuario debe introducir por teclado los dos valores)."
   ]
  },
  {
   "cell_type": "code",
   "execution_count": 2,
   "metadata": {},
   "outputs": [
    {
     "name": "stdout",
     "output_type": "stream",
     "text": [
      "el area es:  16\n",
      "el perimetro es:  20\n"
     ]
    }
   ],
   "source": [
    "base = int (input(\"ingrese la base\"))\n",
    "altura = int (input(\"ingresar la altura\"))\n",
    "lado_1 = int (input(\"ingrese lado 1\"))\n",
    "lado_2 = int (input(\"ingrese lado 2\"))\n",
    "\n",
    "area = base * altura\n",
    "\n",
    "perimetro = lado_1 * 2 +  lado_2 * 2 \n",
    "\n",
    "print(f\"el area es: \",area)\n",
    "\n",
    "print(f\"el perimetro es: \",perimetro)\n",
    "\n",
    "\n"
   ]
  },
  {
   "cell_type": "markdown",
   "metadata": {},
   "source": [
    "3) Calcular el resultado de elevar un número entero a otro número entero (por ejemplo, 5 elevado a 3 = 5^3 = 5*5*5)."
   ]
  },
  {
   "cell_type": "code",
   "execution_count": 5,
   "metadata": {},
   "outputs": [
    {
     "name": "stdout",
     "output_type": "stream",
     "text": [
      "el resultado es: 27\n"
     ]
    }
   ],
   "source": [
    "numero_1= int (input(\"ingresar el valor de la base\"))\n",
    "\n",
    "numero_2 = int (input(\"ingresar el valor del exponente\"))\n",
    "\n",
    "potencia = numero_1**numero_2\n",
    "\n",
    "print(\"el resultado es:\", potencia)\n"
   ]
  },
  {
   "cell_type": "markdown",
   "metadata": {},
   "source": [
    "4) Escribe un programa que convierta grados Celsius a grados Fahrenheit utilizando la fórmula: **F = (C * 9/5) + 32**"
   ]
  },
  {
   "cell_type": "code",
   "execution_count": 8,
   "metadata": {},
   "outputs": [
    {
     "name": "stdout",
     "output_type": "stream",
     "text": [
      "los grados fahrenheit son: 92.3\n"
     ]
    }
   ],
   "source": [
    "celsius =  float(input(\"ingresar los grados a convertir\"))\n",
    "\n",
    "fahrenheit = (celsius*9/5) + 32\n",
    "\n",
    "print(\"los grados fahrenheit son:\", fahrenheit)"
   ]
  },
  {
   "cell_type": "markdown",
   "metadata": {},
   "source": [
    "5) Pedir al usuario su edad y mostrar por pantalla si es mayor de edad o no. (Mayor de edad >= 18)"
   ]
  },
  {
   "cell_type": "code",
   "execution_count": 12,
   "metadata": {},
   "outputs": [
    {
     "name": "stdout",
     "output_type": "stream",
     "text": [
      "18 eres mayor de edad\n"
     ]
    }
   ],
   "source": [
    "edad = int(input(\"ingresar edad\"))\n",
    "\n",
    "if  edad >= 18:\n",
    "    print(edad, \"eres mayor de edad\")\n",
    "else:\n",
    "    print(edad, \"eres menor de edad\")\n"
   ]
  },
  {
   "cell_type": "markdown",
   "metadata": {},
   "source": [
    "6) Comprobar si el numero ingresado por el usuario es par o impar."
   ]
  },
  {
   "cell_type": "code",
   "execution_count": 3,
   "metadata": {},
   "outputs": [
    {
     "name": "stdout",
     "output_type": "stream",
     "text": [
      "8 es un número par.\n"
     ]
    }
   ],
   "source": [
    "numero = int(input(\"ingresar un numero \"))\n",
    "\n",
    "if numero % 2 == 0:\n",
    "    print(f\"{numero} es un número par.\")\n",
    "else:\n",
    "    print(f\"{numero} es un número impar.\")"
   ]
  },
  {
   "cell_type": "markdown",
   "metadata": {},
   "source": [
    "7) Pedir al usuario que ingrese su dirección email y luego mostrar un mensaje indicando si la dirección es válida o no. Una dirección se considerará válida si contiene el símbolo \"@\"."
   ]
  },
  {
   "cell_type": "code",
   "execution_count": 6,
   "metadata": {},
   "outputs": [
    {
     "name": "stdout",
     "output_type": "stream",
     "text": [
      "El correo electrónico ingresado es válido.\n"
     ]
    }
   ],
   "source": [
    "import re\n",
    "\n",
    "def validar_email(email):\n",
    "    # Patrón de expresión regular para validar el email\n",
    "    patron_email = re.compile(r'^[a-zA-Z0-9._%+-]+@[a-zA-Z0-9.-]+\\.[a-zA-Z]{2,}$')\n",
    "\n",
    "    # Verificar si el email coincide con el patrón\n",
    "    if patron_email.match(email):\n",
    "        return True\n",
    "    else:\n",
    "        return False\n",
    "\n",
    "# Pedir al usuario que ingrese un email\n",
    "email_ingresado = input(\"Ingresa tu dirección de correo electrónico: \")\n",
    "\n",
    "# Validar el email ingresado\n",
    "if validar_email(email_ingresado):\n",
    "    print(\"El correo electrónico ingresado es válido.\")\n",
    "else:\n",
    "    print(\"El correo electrónico ingresado no es válido.\")"
   ]
  },
  {
   "cell_type": "markdown",
   "metadata": {},
   "source": [
    "8) Dado un número de dos cifras, diseñe un algoritmo que permita obtener el número invertido. Ejemplo, si se introduce 23 que muestre 32. (Recordar que las cadenas pueden tratarse como listas de caracteres)."
   ]
  },
  {
   "cell_type": "markdown",
   "metadata": {},
   "source": [
    "numero = int(input(\"Ingresa un número de dos cifras: \"))\n",
    "\n",
    "# Verificar si el número tiene dos cifras\n",
    "#if numero >= 10 and numero <= 99:\n",
    "    # Obtener las cifras individuales\n",
    "    cifra_unidades = numero % 10\n",
    "    cifra_decenas = numero // 10\n",
    "\n",
    "    # Invertir el número\n",
    "    numero_invertido = cifra_unidades * 10 + cifra_decenas\n",
    "\n",
    "    print(f\"El número invertido de {numero} es: {numero_invertido}\")\n",
    "else:\n",
    "    print(\"El número ingresado no tiene dos cifras.\")"
   ]
  },
  {
   "cell_type": "markdown",
   "metadata": {},
   "source": [
    "9) Crea un programa que pida al usuario dos números y muestre True si ambos son mayores que 10."
   ]
  },
  {
   "cell_type": "code",
   "execution_count": 1,
   "metadata": {},
   "outputs": [],
   "source": [
    "numero_1 = bool(input(\"ingresar el primer numero \"))\n",
    "\n",
    "numero_2 = bool(input(\"ingresar el segundo numero \"))\n",
    "\n",
    "if numero_1 and numero_2 > 10:\n",
    "    print(True)\n",
    "else:\n",
    "    print(\"no son mayores que 10\")\n",
    "\n"
   ]
  },
  {
   "cell_type": "markdown",
   "metadata": {},
   "source": [
    "10) Escribe un programa que verifique si un número ingresado por el usuario es divisible por 3 y por 5."
   ]
  },
  {
   "cell_type": "code",
   "execution_count": 13,
   "metadata": {},
   "outputs": [
    {
     "name": "stdout",
     "output_type": "stream",
     "text": [
      "El número 15 es divisible por 3 y 5.\n"
     ]
    }
   ],
   "source": [
    "numero = int(input(\"Ingrese un número: \"))\n",
    "\n",
    "\n",
    "if numero % 3 == 0 and numero % 5 == 0:\n",
    "    print(f\"El número {numero} es divisible por 3 y 5.\")\n",
    "else:\n",
    "    print(f\"El número {numero} no es divisible por 3 y 5.\")"
   ]
  },
  {
   "cell_type": "markdown",
   "metadata": {},
   "source": [
    "11) Utilizando la información del punto 5, preguntar al usuario si posee carnet de conducir, luego verificar si puede conducir un automóvil."
   ]
  },
  {
   "cell_type": "code",
   "execution_count": 19,
   "metadata": {},
   "outputs": [
    {
     "name": "stdout",
     "output_type": "stream",
     "text": [
      "Lo sentimos, no cumple con los requisitos para conducir.\n"
     ]
    }
   ],
   "source": [
    "tiene_carnet = (input(\"¿Tiene carnet? (Responda 'si' o 'no'): \"))\n",
    "\n",
    "edad = int(input(\"¿Cuál es su edad?: \"))\n",
    "\n",
    "\n",
    "if tiene_carnet == 'si' and edad >= 18:\n",
    "    print(\"Usted puede conducir.\")\n",
    "else:\n",
    "    print(\"Lo sentimos, no cumple con los requisitos para conducir.\")"
   ]
  },
  {
   "cell_type": "markdown",
   "metadata": {},
   "source": [
    "12) Pide al usuario un número y verifica si es positivo y no es mayor que 100."
   ]
  },
  {
   "cell_type": "code",
   "execution_count": 21,
   "metadata": {},
   "outputs": [
    {
     "name": "stdout",
     "output_type": "stream",
     "text": [
      "El número ingresado no es positivo.\n"
     ]
    }
   ],
   "source": [
    "numero = float(input(\"ingrese un nuemro: \"))\n",
    "\n",
    "if numero > 0 and numero <= 100:\n",
    "    \n",
    "    print(\"El número es positivo y no es mayor que 100.\")\n",
    "elif numero <= 0:\n",
    "    print(\"El número ingresado no es positivo.\")\n",
    "else:\n",
    "    print(\"El número ingresado es mayor que 100.\")"
   ]
  },
  {
   "cell_type": "markdown",
   "metadata": {},
   "source": [
    "13) Crear un programa que valide si un número ingresado por el usuario es par y mayor que 20."
   ]
  },
  {
   "cell_type": "code",
   "execution_count": 24,
   "metadata": {},
   "outputs": [
    {
     "name": "stdout",
     "output_type": "stream",
     "text": [
      "el numero es impar\n"
     ]
    }
   ],
   "source": [
    "numero = int(input(\"ingrese un nuemro: \"))\n",
    "\n",
    "if numero % 2 == 0 and numero > 20:\n",
    "    print(\"el numero ingresado es par y mayor a 20\")\n",
    "\n",
    "elif numero % 2 == 0 and numero < 20:\n",
    "    print(\"el numero es par y menor que 20\")\n",
    "else:\n",
    "    print(\"el numero es impar\")"
   ]
  },
  {
   "cell_type": "markdown",
   "metadata": {},
   "source": [
    "14) Dada la variable **numero = 5**, realizar la operación necesaria para que número sea igual a 8. Luego imprimir en pantalla el nuevo valor de número y realizar una nueva operación para que el valor de número sea igual a 4 y mostrar en pantalla el nuevo valor."
   ]
  },
  {
   "cell_type": "code",
   "execution_count": 6,
   "metadata": {},
   "outputs": [
    {
     "name": "stdout",
     "output_type": "stream",
     "text": [
      "el resultado es:  8\n",
      "el resultado es:  4\n"
     ]
    }
   ],
   "source": [
    "numero = 5\n",
    "\n",
    "numero = numero + 3\n",
    "print(\"el resultado es: \", numero)\n",
    "\n",
    "numero = numero - 4\n",
    "\n",
    "print(\"el resultado es: \", numero)\n"
   ]
  },
  {
   "cell_type": "markdown",
   "metadata": {},
   "source": [
    "15) Dadas las variables altura = \"10\" y base = 5, calcular el área de un triángulo y mostrar el resultado en pantalla. ¿Por qué el resultado es un error? ¿Cómo lo corregirías?"
   ]
  },
  {
   "cell_type": "code",
   "execution_count": 7,
   "metadata": {},
   "outputs": [
    {
     "name": "stdout",
     "output_type": "stream",
     "text": [
      "el area del triangulo es : 7.5\n"
     ]
    }
   ],
   "source": [
    "# lo corregimos de la siguiente manera convertimos el \"10\" que es un string en entero 10 y asi logramos corregir el error\n",
    "\n",
    "altura = int(input(\"ingrese la altura\"))\n",
    "\n",
    "base = int(input(\"ingrese la base\"))\n",
    "\n",
    "area = altura * base / 2 \n",
    "\n",
    "print(\"el area del triangulo es :\", area)"
   ]
  },
  {
   "cell_type": "markdown",
   "metadata": {},
   "source": [
    "16) Crea un programa que calcule el promedio de tres calificaciones ingresadas por el usuario, y comprobar si el alumno aprobó o no (aprueba con nota mayor a 6)."
   ]
  },
  {
   "cell_type": "code",
   "execution_count": 3,
   "metadata": {},
   "outputs": [
    {
     "name": "stdout",
     "output_type": "stream",
     "text": [
      "El promedio de las notas es: 7.00\n",
      "El alumno está Aprobado\n"
     ]
    }
   ],
   "source": [
    "def calcular_promedio(nota1, nota2, nota3):\n",
    "    promedio = (nota1 + nota2 + nota3) / 3\n",
    "    return promedio\n",
    "\n",
    "def verificar_aprobacion(promedio):\n",
    "    if promedio > 6:\n",
    "        return \"Aprobado\"\n",
    "    else:\n",
    "        return \"Desaprobado\"\n",
    "\n",
    "# Solicitar al usuario que ingrese las notas\n",
    "nota1 = float(input(\"Ingresa la primera nota: \"))\n",
    "nota2 = float(input(\"Ingresa la segunda nota: \"))\n",
    "nota3 = float(input(\"Ingresa la tercera nota: \"))\n",
    "\n",
    "# Calcular el promedio\n",
    "promedio_notas = calcular_promedio(nota1, nota2, nota3)\n",
    "\n",
    "# Verificar si el alumno aprobó o no\n",
    "resultado = verificar_aprobacion(promedio_notas)\n",
    "\n",
    "# Mostrar el resultado\n",
    "print(f\"El promedio de las notas es: {promedio_notas:.2f}\")\n",
    "print(f\"El alumno está {resultado}\")"
   ]
  },
  {
   "cell_type": "markdown",
   "metadata": {},
   "source": [
    "17) Pide al usuario su edad y calcula cuántos días, horas y minutos ha vivido aproximadamente (asumiendo 365 días por año)."
   ]
  },
  {
   "cell_type": "code",
   "execution_count": 8,
   "metadata": {},
   "outputs": [
    {
     "name": "stdout",
     "output_type": "stream",
     "text": [
      "Has vivido aproximadamente:\n",
      "Días: 12045\n",
      "Horas: 289080\n",
      "Minutos: 17344800\n"
     ]
    }
   ],
   "source": [
    "edad = int(input(\"Por favor, ingresa tu edad: \"))\n",
    "\n",
    "# Calcular los días, horas y minutos vividos\n",
    "dias_vividos = edad * 365\n",
    "horas_vividas = dias_vividos * 24\n",
    "minutos_vividos = horas_vividas * 60\n",
    "\n",
    "# Mostrar los resultados\n",
    "print(\"Has vivido aproximadamente:\")\n",
    "print(\"Días:\", dias_vividos)\n",
    "print(\"Horas:\", horas_vividas)\n",
    "print(\"Minutos:\", minutos_vividos)\n"
   ]
  },
  {
   "cell_type": "markdown",
   "metadata": {},
   "source": [
    "18) Crea un programa que verifique si un número ingresado por el usuario es múltiplo de 4 y de 6 al mismo tiempo."
   ]
  },
  {
   "cell_type": "code",
   "execution_count": 12,
   "metadata": {},
   "outputs": [
    {
     "name": "stdout",
     "output_type": "stream",
     "text": [
      "el numero ingresado es: 12 y es multiplo de 4 y 6\n"
     ]
    }
   ],
   "source": [
    "numero = int(input(\"Por favor, ingrese un numero: \"))\n",
    "\n",
    "if numero % 4 == 0 and numero % 6 == 0:\n",
    "    print(\"el numero ingresado es:\", numero , \"y es multiplo de 4 y 6\")\n",
    "else:\n",
    "    print(\"el numero ingresado es:\", numero , \"y no es multiplo de 4 y 6\")"
   ]
  },
  {
   "cell_type": "markdown",
   "metadata": {},
   "source": [
    "19) "
   ]
  }
 ],
 "metadata": {
  "kernelspec": {
   "display_name": "Python 3",
   "language": "python",
   "name": "python3"
  },
  "language_info": {
   "codemirror_mode": {
    "name": "ipython",
    "version": 3
   },
   "file_extension": ".py",
   "mimetype": "text/x-python",
   "name": "python",
   "nbconvert_exporter": "python",
   "pygments_lexer": "ipython3",
   "version": "3.12.0"
  }
 },
 "nbformat": 4,
 "nbformat_minor": 2
}
